{
  "nbformat": 4,
  "nbformat_minor": 0,
  "metadata": {
    "colab": {
      "provenance": [],
      "authorship_tag": "ABX9TyMpLNq5AHNqMHAmigGmgDEh",
      "include_colab_link": true
    },
    "kernelspec": {
      "name": "python3",
      "display_name": "Python 3"
    },
    "language_info": {
      "name": "python"
    }
  },
  "cells": [
    {
      "cell_type": "markdown",
      "metadata": {
        "id": "view-in-github",
        "colab_type": "text"
      },
      "source": [
        "<a href=\"https://colab.research.google.com/github/dfigueroa13/data_science_1/blob/main/Curso_PythonBasics_DataAnalysis.ipynb\" target=\"_parent\"><img src=\"https://colab.research.google.com/assets/colab-badge.svg\" alt=\"Open In Colab\"/></a>"
      ]
    },
    {
      "cell_type": "markdown",
      "source": [
        "#Declaración de variables"
      ],
      "metadata": {
        "id": "jO0MaNh0uEB-"
      }
    },
    {
      "cell_type": "code",
      "source": [
        "checkingAccount = 500\n",
        "savingsAccount = 1000\n",
        "firstName = \"Benjamin\"\n",
        "interestRate = 1.5\n",
        "address = \"15 19 Bloomsbury Way, Holborn, London, WC1A 2TH\"\n",
        "\n",
        "#Guardar valores en el banco, agregar 100 a lo que se tiene\n",
        "savingsAccount = savingsAccount + 100\n",
        "checkingAccount = checkingAccount -50\n",
        "numbersDaySafe = (5000 - checkingAccount) /500\n",
        "numbersDaySafe=int(numbersDaySafe)\n",
        "\n",
        "print (\"El numero de dias para llegar a la cantidad de 5000, ahorrando 500 cada dia son: \" + str(numbersDaySafe)+\" días\")\n",
        "print(savingsAccount % 200)\n",
        "print(savingsAccount // 500)\n",
        "\n"
      ],
      "metadata": {
        "id": "L0WbjaS4Hg99",
        "colab": {
          "base_uri": "https://localhost:8080/"
        },
        "outputId": "7479115b-4832-4f9c-e3bb-5625de88c13a"
      },
      "execution_count": null,
      "outputs": [
        {
          "output_type": "stream",
          "name": "stdout",
          "text": [
            "El numero de dias para llegar a la cantidad de 5000, ahorrando 500 cada dia son: 9 días\n",
            "100\n",
            "2\n"
          ]
        }
      ]
    },
    {
      "cell_type": "markdown",
      "source": [
        "#Imprimir\n",
        "Covertir el valor de una variable estrictamente a entero con int()\n",
        "De no usarla, el tipo de variable será la más compleja según lo requiera la operación. En este caso seria de tipo *float*."
      ],
      "metadata": {
        "id": "-r4psx36uOik"
      }
    },
    {
      "cell_type": "code",
      "source": [
        "savingsAccount = 10000\n",
        "rate = 0.75\n",
        "\n",
        "interest = savingsAccount * (rate/100)\n",
        "interest =int(interest)\n",
        "\n",
        "print(interest)"
      ],
      "metadata": {
        "colab": {
          "base_uri": "https://localhost:8080/"
        },
        "id": "L7l9JVSg6sRo",
        "outputId": "8b90298d-316c-4616-8966-c151fce9e7d4"
      },
      "execution_count": null,
      "outputs": [
        {
          "output_type": "stream",
          "name": "stdout",
          "text": [
            "75\n"
          ]
        }
      ]
    },
    {
      "cell_type": "markdown",
      "source": [
        "#Concatenar strings"
      ],
      "metadata": {
        "id": "8t4YHk_IuyZd"
      }
    },
    {
      "cell_type": "code",
      "source": [
        "favoriteCityOne = \"San Francisco\"\n",
        "favoriteCityTwo = \"New York\"\n",
        "favorites = favoriteCityOne +\" \"+ favoriteCityTwo\n",
        "print(favorites) # => \"San FranciscoNew York\""
      ],
      "metadata": {
        "colab": {
          "base_uri": "https://localhost:8080/"
        },
        "id": "luBQ818q8Iyx",
        "outputId": "93533aa7-de7d-4ae4-85ae-bf1f0a2ab800"
      },
      "execution_count": null,
      "outputs": [
        {
          "output_type": "stream",
          "name": "stdout",
          "text": [
            "San Francisco New York\n"
          ]
        }
      ]
    },
    {
      "cell_type": "markdown",
      "source": [
        "#Definición de funciones\n",
        "Las funciones se definen con la palabra clave **def**, seguido de un parentesis. Dentro del parentesis van los parametros de entrada. No es obligatorio que los lleve.\n",
        "La función puede llevar un retorno. \n",
        "\n",
        "Para imprimir numeros enteros concatenados con un string se puede utilizar:\n",
        "**str(variable_que_contiene_numero)**"
      ],
      "metadata": {
        "id": "94RJoeb6vEFl"
      }
    },
    {
      "cell_type": "code",
      "source": [
        "def printPerimeter(dimension1, dimension2, dimension3):\n",
        "    perimeter = dimension1 + dimension2 + dimension3\n",
        "    print(perimeter)\n",
        "\n",
        "def calculatePerimeter(dimension1, dimension2, dimension3):\n",
        "    perimeter = dimension1 + dimension2 + dimension3\n",
        "    return perimeter\n",
        "\n",
        "#printPerimeter(8,6.6,8)\n",
        "perimetro0 = calculatePerimeter(87,54,22)\n",
        "perimetro1 = calculatePerimeter(9,7,3)\n",
        "print(\"El primer perimetro es:\",perimetro0)\n",
        "print(\"El segundo perimetro es: \"+ str(perimetro1))"
      ],
      "metadata": {
        "colab": {
          "base_uri": "https://localhost:8080/"
        },
        "id": "3h2FJ1AZBfe9",
        "outputId": "9839b0e7-35e0-45fe-b583-1cda6b1a168f"
      },
      "execution_count": null,
      "outputs": [
        {
          "output_type": "stream",
          "name": "stdout",
          "text": [
            "El primer perimetro es: 163\n",
            "El segundo perimetro es: 19\n"
          ]
        }
      ]
    },
    {
      "cell_type": "markdown",
      "source": [
        "#Objetos\n",
        "La programación orientada objetos en python permite que todo sea un objeto, en este caso la clase string, al utilizarla estamos creando instancias de dicha clase y por lo tanto tenemos la posibilidad de utilizar los metodos de dicha clase.\n",
        "En este ejemplo se utiliza el metodo **replace()**, para reemplazar una palabra por otra dentro de la cadena. Modificando asi el objeto original.\n",
        "\n",
        "Se puede almacenar el nuevo resultado en otra variable nueva como en el ejemplo."
      ],
      "metadata": {
        "id": "52S8q-hwv1kt"
      }
    },
    {
      "cell_type": "code",
      "source": [
        "texto =\"Ahora, pregúnTate CuáNtOs CAramelos PUeDen tEner TuS amigos De uNa SoLa vez\"\n",
        "corregido = texto.replace('CAramelos','Paletas')\n",
        "print(corregido.capitalize())"
      ],
      "metadata": {
        "colab": {
          "base_uri": "https://localhost:8080/"
        },
        "id": "EDpuCLA4EHij",
        "outputId": "0ed80220-4de3-4945-cbeb-7ba0036b31ec"
      },
      "execution_count": null,
      "outputs": [
        {
          "output_type": "stream",
          "name": "stdout",
          "text": [
            "Ahora, pregúntate cuántos paletas pueden tener tus amigos de una sola vez\n"
          ]
        }
      ]
    },
    {
      "cell_type": "markdown",
      "source": [
        "#Listas \n",
        "En python las listas son para almacenar objetos.\n",
        "Se declaran como cualquier variable y los objetos se guardan entre los corchetes. La posición inicia desde **0**.\n",
        "Para imprimir se escribe la variable y la posición en donde esta el objeto a imprimir.\n"
      ],
      "metadata": {
        "id": "pYkXooLfy3WF"
      }
    },
    {
      "cell_type": "code",
      "source": [
        "#Pueden almacenarse articulos diferentes en una misma lista como enteros y decimales por ejemplo\n",
        "customerName = ['Marion Weaver', 'Alberto Mendoza', 'Katharine Tyler', 'Isaac Steele']\n",
        "amountAccount = [10000, 150, 300, 1800.74]\n",
        "strangeList = [4, 10.2, 'Marion Weaver', ['another list', 1]]\n",
        "\n",
        "#Modificar un articulo especifico utilizando su posición\n",
        "customerName[2]='Alberto Meza'\n",
        "\n",
        "#imprimir objeto dentro de lista utilizando su posición dentro de la lista.\n",
        "print(customerName[3])\n",
        "print(customerName[2])\n",
        "\n",
        "# print the last item\n",
        "print(customerName[-1])\n",
        "\n",
        "# access the second item to the 3rd\n",
        "print(customerName[1:3])\n",
        "\n",
        "# access all items from the beginning to the second\n",
        "print(customerName[:2])\n",
        "\n",
        "# print the 4th item of the list\n",
        "print(strangeList[3])"
      ],
      "metadata": {
        "id": "nhCF-uE0RnnW"
      },
      "execution_count": null,
      "outputs": []
    },
    {
      "cell_type": "markdown",
      "source": [
        "\n",
        "##**[Exercise]** One List to Govern Them All\n",
        "\n",
        "-Declare a colors list containing five items: red, yellow, orange, green, and blue.\n",
        "\n",
        "-Replace the color green with emerald\n",
        "\n",
        "-Print the contents of the list:"
      ],
      "metadata": {
        "id": "IBXHJoN804uV"
      }
    },
    {
      "cell_type": "code",
      "source": [
        "colors =['red','yellow','orange','green','blue']\n",
        "colors[3]='emerald'\n",
        "\n",
        "#Para imprimir los objetos de una lista utilice el ciclo for de la siguiente forma\n",
        "for n in colors:\n",
        "  print(n)\n",
        "print (colors)\n",
        "\n"
      ],
      "metadata": {
        "id": "h4f5w5lh0yBu"
      },
      "execution_count": null,
      "outputs": []
    },
    {
      "cell_type": "code",
      "source": [
        "numeros = [1, 2, 4, 5, 8, 6,3]\n",
        "\n",
        "#El ciclo for puede utilizarse junto con la sentencia if dentro del ciclo\n",
        "for n in numeros:\n",
        "  print('secuencia no. ',n)\n",
        "  if n == 3:\n",
        "        print('Encontré el 3: ')\n",
        "        break\n",
        "  else:\n",
        "      print('No se encontró el número 3')\n",
        "\n",
        "numeros.extend(['hola',666,22])\n",
        "numeros.index('hola')\n"
      ],
      "metadata": {
        "id": "Wt5hmO0w5H3H"
      },
      "execution_count": null,
      "outputs": []
    },
    {
      "cell_type": "markdown",
      "source": [
        "#Agregar elementos a lista\n",
        "Una lista puede ser modificada.\n",
        "Dentro de una lista se puede:\n",
        "\n",
        "-**buscar** un elemento específico en la lista.\n",
        "\n",
        "-**añadir** un nuevo elemento al final.\n",
        "\n",
        "-**insertar** un nuevo elemento en un índice específico.\n",
        "\n",
        "-**eliminar** un elemento de la lista. \n",
        "\n"
      ],
      "metadata": {
        "id": "utHDUg6D9-PH"
      }
    },
    {
      "cell_type": "code",
      "source": [
        "from re import L\n",
        "list = []\n",
        "list.append(7) # -> [7]\n",
        "list.append(5) # -> [7, 5]\n",
        "list.insert(1,12) # [7, 12, 5]\n",
        "list[0] = 4 # -> [4, 12, 5]\n",
        "list.remove(12) # [4, 5]\n",
        "list.index(5) # prints 1, imprime la posición en donde se encuentra dicho valor\n",
        "list.extend([1, 2, 3]) # [4, 5, 1, 2, 3]\n",
        "del list[3] # [4, 5, 1, 3]\n",
        "\n",
        "len(list) # Imprime el tamaño de la lista, es decir el número de articulos dentro de la lista\n",
        "\n",
        "#for n in list:\n",
        " #print(n)"
      ],
      "metadata": {
        "id": "wvnEJgv8-hhx",
        "colab": {
          "base_uri": "https://localhost:8080/"
        },
        "outputId": "0e869129-e063-4eca-c827-59478328ab87"
      },
      "execution_count": null,
      "outputs": [
        {
          "output_type": "execute_result",
          "data": {
            "text/plain": [
              "4"
            ]
          },
          "metadata": {},
          "execution_count": 32
        }
      ]
    },
    {
      "cell_type": "markdown",
      "source": [
        "#Adding Items to a List\n",
        "\n",
        "Replace the ?? with the appropriate code to create an empty list:\n",
        "\n",
        "-Add three guests to the list: Joey, Martin, and Mary\n",
        "\n",
        "-Print the size of the list:\n",
        "\n",
        "-Replace Martin with John in the list:\n",
        "\n",
        "-Delete Joey from the list:\n",
        "\n",
        "-Print the contents of the list:\n",
        "\n"
      ],
      "metadata": {
        "id": "sxhCEkjOD5o3"
      }
    },
    {
      "cell_type": "code",
      "source": [
        "names =[]\n",
        "names.append('Joey')\n",
        "names.append('Martin')\n",
        "names.append('Mary')\n",
        "#guests.extend(['Joey', 'Martin', 'Mary'])\n",
        "\n",
        "len(names)\n",
        "del names[1] #eliminar por posición\n",
        "names.insert(0,'John')\n",
        "\n",
        "#guests.insert(1, 'John')\n",
        "#guests.remove('Martin')\n",
        "\n",
        "names.remove('Joey') #eliminar por \"nombre\" o valor si es numero\n",
        "\n",
        "for n in names:\n",
        "  print(n)"
      ],
      "metadata": {
        "id": "otR_LDFuEO2o"
      },
      "execution_count": null,
      "outputs": []
    },
    {
      "cell_type": "markdown",
      "source": [
        "#Diccionarios\n",
        "Similares a las listas, pero cada articulo se asocia a una clave que debe ser única. Se utilizan corchetes para declararse y son en pares, cada uno con su clave-valor.\n",
        "\n",
        "##Manipular elementos\n",
        "Estas son las operaciones que se realizan frecuentemente con los diccionarios:\n",
        "\n",
        "-Acceder al valor de un artículo\n",
        "\n",
        "-Agregar un nuevo elemento (un nuevo par clave-valor)\n",
        "\n",
        "-Eliminar un elemento a través de su clave "
      ],
      "metadata": {
        "id": "SMae_togrprO"
      }
    },
    {
      "cell_type": "code",
      "source": [
        "#Así se declara un diccionario\n",
        "accounts = {'Marion Weaver': 10000, 'Alberto Mendoza': 150, 'Katharine Tyler': 300, 'Isaac Steele': 1800.74, 'Christian Meza': 100000}\n",
        "accounts['Marion Weaver'] -= 2000 # I subtract 2000 from Marion's account\n",
        "accounts['Kristian Roach'] = 1000 # I add a new individual in my dictionary\n",
        "\n",
        "accounts.pop('Christian Meza') # deletes Christian Meza from our dictionary\n",
        "\n",
        "#print(accounts['Kristian Roach']) # I print the value of Kristian's account\n",
        "#print(accounts['Alberto Mendoza']) # -> 150\n",
        "#print(accounts['Marion Weaver']) # -> 150\n",
        "print(accounts)\n",
        "len(accounts) #Devuelve el tamaño del diccionario"
      ],
      "metadata": {
        "id": "it_DCLLQrsyd",
        "colab": {
          "base_uri": "https://localhost:8080/"
        },
        "outputId": "8a6adff0-06c7-4892-a0c2-d046ec25cee5"
      },
      "execution_count": null,
      "outputs": [
        {
          "output_type": "stream",
          "name": "stdout",
          "text": [
            "{'Marion Weaver': 8000, 'Alberto Mendoza': 150, 'Katharine Tyler': 300, 'Isaac Steele': 1800.74, 'Kristian Roach': 1000}\n"
          ]
        },
        {
          "output_type": "execute_result",
          "data": {
            "text/plain": [
              "5"
            ]
          },
          "metadata": {},
          "execution_count": 6
        }
      ]
    },
    {
      "cell_type": "markdown",
      "source": [
        "#Tuplas Innmutables\n",
        "\n",
        "Son Listas con objetos ordenados, pero que una vez creadas no se pueden modificar.Se pueden usar:\n",
        "\n",
        "-cuando quiera asegurarse de que los datos no se modifican dentro de un programa.\n",
        "\n",
        "-para devolver varios valores de una función, es posible devolver varios valores... ¡con una tupla!\n",
        "\n",
        "-para declarar varias variables en una línea. \n"
      ],
      "metadata": {
        "id": "dCOLdmY6ufU2"
      }
    },
    {
      "cell_type": "code",
      "source": [
        "my_tuple = (1, 2, 3, 'a', 'b')\n",
        "print(my_tuple[1], \" <-porque esta en la posición 1\") # -> 2\n",
        "print(my_tuple[4], \" <-porque esta en la posición 4\") # -> 'b'\n",
        "\n",
        "#Declarar variables al mismo tiempo desde tuplas\n",
        "a, b = (1, 'apple')\n",
        "print(a) # -> 1\n",
        "print(b) # -> 'apple'\n"
      ],
      "metadata": {
        "colab": {
          "base_uri": "https://localhost:8080/"
        },
        "id": "Ui_9l9zsumrG",
        "outputId": "459fcf09-52cb-44bb-ebb8-8b1362f441e3"
      },
      "execution_count": null,
      "outputs": [
        {
          "output_type": "stream",
          "name": "stdout",
          "text": [
            "2  <-porque esta en la posición 1\n",
            "b  <-porque esta en la posición 4\n",
            "5\n",
            "apple\n",
            "5 apple\n"
          ]
        }
      ]
    },
    {
      "cell_type": "markdown",
      "source": [
        "#Inputs y condicional if-else"
      ],
      "metadata": {
        "id": "q6iwd5UfyteQ"
      }
    },
    {
      "cell_type": "code",
      "source": [
        "username =input('Como te llamas?')\n",
        "\n",
        "if len(username)!=0:\n",
        "  print('Hola',username,', bienvenido!!')\n",
        "else:\n",
        "  print('Hola desconocido')"
      ],
      "metadata": {
        "id": "pso4lGwmyvij"
      },
      "execution_count": null,
      "outputs": []
    },
    {
      "cell_type": "markdown",
      "source": [
        "#Booleanos\n",
        "Puede ser true or false. Las sentencias condicionales siempre deben ser evaluadas bajo valores booleanos.\n",
        "Existen varias formas de producir dichos valores, por ejemplo:\n",
        "\n",
        "-operadores de comparación(<,>,<=,>=,==,!=)\n",
        "\n",
        "-operadores lógicos (*and, or, not*). Al igual que con las operaciones numéricas, los operadores lógicos respetan las prioridades de las operaciones: el *not* se aplica primero, luego el *and* y por ultimo el operador *or*. Tambien se puede utilizar parentesis para definir el orden.\n",
        "\n",
        "-Operador ***in***: esto vuelve *True* cuando se encuentra un valor en una secuencia (una cadena o una lista); *False*, si no. "
      ],
      "metadata": {
        "id": "bkVjSnmh11Ee"
      }
    },
    {
      "cell_type": "code",
      "source": [
        "thisCourseIsGreat = True\n",
        "itsAuthorIsVeryHumble = False\n",
        "weather = \"The weather is great!\"\n",
        "\n",
        "#Metodo de string que permite producir un valor booleano si dicho string inicia con algun valor o palabra especifica\n",
        "weather.startswith(\"Hola\") # -> False\n",
        "#2 == 3 # -> True"
      ],
      "metadata": {
        "id": "VaghDGiT18N3"
      },
      "execution_count": null,
      "outputs": []
    },
    {
      "cell_type": "code",
      "source": [
        "True and True # True\n",
        "True and False # False\n",
        "False and False # False\n",
        "True or False # True\n",
        "True or True # True\n",
        "False or False # False\n",
        "not(True) # False\n",
        "not(False) # True"
      ],
      "metadata": {
        "id": "ApBEB1Dp7ZWw"
      },
      "execution_count": null,
      "outputs": []
    },
    {
      "cell_type": "code",
      "source": [
        "False or False or True and True # True\n",
        "#not(False) and True or False # True"
      ],
      "metadata": {
        "id": "vAUc1NxD7Zqf"
      },
      "execution_count": null,
      "outputs": []
    },
    {
      "cell_type": "code",
      "source": [
        "myList = [4, 2, 3, 2, 10]\n",
        "myStringList = [\"a\", \"b\", \"c\", \"d\"]\n",
        "myString = \"The weather is really good today!\"\n",
        "\n",
        "4 in myList # True\n",
        "0 in myList # False\n",
        "0 in myStringList # False\n",
        "\"c\" in myStringList # True\n",
        "\"e\" in myStringList # False\n",
        "\"weather\" in myString # True\n",
        "\"really\" in myString # True\n",
        "\"rain?\" in myString # False"
      ],
      "metadata": {
        "colab": {
          "base_uri": "https://localhost:8080/"
        },
        "id": "1Lw4MGJG7XHB",
        "outputId": "fe3f5424-9adc-443e-d30c-1349d2dcabe4"
      },
      "execution_count": null,
      "outputs": [
        {
          "output_type": "execute_result",
          "data": {
            "text/plain": [
              "False"
            ]
          },
          "metadata": {},
          "execution_count": 40
        }
      ]
    },
    {
      "cell_type": "code",
      "source": [
        "cuentas={'Diego':5000,'Jose':6000,'Jack':999,'Robin':20000}\n",
        "\n",
        "consulta = input(\"Que cuenta desea consultar para prestamos\")\n",
        "#print(consulta)\n",
        "#print(cuentas['Diego'])\n",
        "result=cuentas[consulta]\n",
        "#print(result)\n",
        "result = int(result) # transform the answer into an integer\n",
        "\n",
        "\n",
        "if result >= 10000:\n",
        "    print(\"Loan granted!\")\n",
        "elif result >= 1000 and result < 10000:\n",
        "    print(\"Loan in process of validation: under study\")\n",
        "else:\n",
        "    print(\"Loan refused\") "
      ],
      "metadata": {
        "colab": {
          "base_uri": "https://localhost:8080/"
        },
        "id": "9KtHgzeSAfn6",
        "outputId": "8d4f704c-0586-410c-a607-d4cb8baab7d0"
      },
      "execution_count": null,
      "outputs": [
        {
          "output_type": "stream",
          "name": "stdout",
          "text": [
            "Que cuenta desea consultar para prestamosDiego\n",
            "Loan in process of validation: under study\n"
          ]
        }
      ]
    },
    {
      "cell_type": "code",
      "source": [
        "cuentas={'Diego':5000,'Jose':6000,'Jack':999,'Robin':20000}\n",
        "print(cuentas['Diego'])"
      ],
      "metadata": {
        "colab": {
          "base_uri": "https://localhost:8080/"
        },
        "id": "bhOjwxfRDcMM",
        "outputId": "712b5c5f-579f-4979-e7a3-5337f09cab09"
      },
      "execution_count": null,
      "outputs": [
        {
          "output_type": "stream",
          "name": "stdout",
          "text": [
            "5000\n"
          ]
        }
      ]
    },
    {
      "cell_type": "markdown",
      "source": [
        "#Ciclo FOR\n",
        "\n",
        "Se puede utilizar para iterar una cadena de caracteres (String), una lista o diccionario. Tambien se puede iterar utilizando un valor entero iterativo."
      ],
      "metadata": {
        "id": "IcYqRvxViHFF"
      }
    },
    {
      "cell_type": "code",
      "source": [
        "myString = \"Items\"\n",
        "\n",
        "for elt in myString:\n",
        "    print(elt)"
      ],
      "metadata": {
        "id": "LseyYLekibbE"
      },
      "execution_count": null,
      "outputs": []
    },
    {
      "cell_type": "code",
      "source": [
        "myList=[7,3,2,5]\n",
        "for recorrer in myList:\n",
        "  print(recorrer)"
      ],
      "metadata": {
        "id": "KGr7P0ELib9s"
      },
      "execution_count": null,
      "outputs": []
    },
    {
      "cell_type": "code",
      "source": [
        "for i in range(0, 5, 1):\n",
        "    print(i) # -> print from 0 to 4 by steps of 1 (end - 1)\n",
        "\n",
        "for i in range(0, 5):\n",
        "    print(i) # -> prints from 0 to 4 also (default step is 1)\n",
        "\n",
        "for i in range(5):\n",
        "    print(i) # -> prints from 0 to 4 also (default start is 0)\n",
        "\n",
        "for i in range(0, 5, 2):\n",
        "    print(i) # -> print 0, 2 then 4"
      ],
      "metadata": {
        "id": "WsAMcMJLiXx0"
      },
      "execution_count": null,
      "outputs": []
    },
    {
      "cell_type": "markdown",
      "source": [
        "#Ciclo WHILE\n",
        "\n",
        "El bucle while se ejecutará siempre que se cumpla una condición . Es una especie de combinación de un bucle for y una estructura if . El número de repeticiones no se define de antemano, sino a través de una condición a cumplir, como con un if . Esto se llama bucle condicional. "
      ],
      "metadata": {
        "id": "-kUXEyTOjRzN"
      }
    },
    {
      "cell_type": "code",
      "source": [
        "numberTrees = 0\n",
        "\n",
        "while numberTrees < 10:\n",
        "    numberTrees += 1\n",
        "    print(\"I planted\", numberTrees, \"trees\")\n",
        "\n",
        "print(\"I have a nice forest!\")"
      ],
      "metadata": {
        "id": "HfkUsd0OjdVN"
      },
      "execution_count": null,
      "outputs": []
    },
    {
      "cell_type": "markdown",
      "source": [
        "**[EJERCICIO]** Writing FOR and WHILE loops\n",
        "\n",
        "Create a for loop that prints: \"OpenClassrooms is really great!\" five times"
      ],
      "metadata": {
        "id": "7mfNE0Vmj-8m"
      }
    },
    {
      "cell_type": "code",
      "source": [
        "#FOR\n",
        "for i in range(5):\n",
        "  print(\"OpenClassrooms is really great!\")"
      ],
      "metadata": {
        "id": "qn76YDNjkFYs"
      },
      "execution_count": null,
      "outputs": []
    },
    {
      "cell_type": "code",
      "source": [
        "#WHILE\n",
        "cont =0\n",
        "while cont<5:\n",
        "  print(\"OpenClassrooms is really great!\")\n",
        "  cont+=1"
      ],
      "metadata": {
        "id": "bvo7wlAPkOHO"
      },
      "execution_count": null,
      "outputs": []
    },
    {
      "cell_type": "markdown",
      "source": [
        "#Omita algunas declaraciones dentro de su ciclo"
      ],
      "metadata": {
        "id": "dBdJniS8lMwt"
      }
    },
    {
      "cell_type": "code",
      "source": [
        "for i in range(10):\n",
        "    # statements executed at each iteration\n",
        "    \n",
        "    if (i == 8) or (i == 4):\n",
        "        print(i,\"Special case\")\n",
        "        continue   ##Para continuar\n",
        "    print(i)\n",
        "    # statements not executed if i == 2 or 5\n",
        "    #print(\"i != 2 & i != 5\")"
      ],
      "metadata": {
        "id": "PUvyu5_IlOFV"
      },
      "execution_count": null,
      "outputs": []
    },
    {
      "cell_type": "code",
      "source": [
        "basket = [\"apple\", \"orange\", \"banana\"]\n",
        "\n",
        "for fruit in basket:\n",
        "    if fruit == \"orange\":\n",
        "        print(\"I have an orange!\")\n",
        "    else:\n",
        "        print(\"I don't have an orange\")\n",
        "        break"
      ],
      "metadata": {
        "id": "U2cv6JjrmaZO"
      },
      "execution_count": null,
      "outputs": []
    },
    {
      "cell_type": "code",
      "source": [
        "d = {'a': 0, 'b': 1, 'c': 0}\n",
        "\n",
        "\n",
        "if d['a'] > 0:\n",
        "\n",
        "   print('yeah!')\n",
        "\n",
        "elif d['b'] > 0:\n",
        "\n",
        "   print('yeah!')\n",
        "\n",
        "elif d['c'] > 0:\n",
        "\n",
        "   print('ok')\n",
        "\n",
        "elif d['d'] > 0:\n",
        "\n",
        "   print('ok')\n",
        "\n",
        "else:\n",
        "\n",
        "   print('not ok')"
      ],
      "metadata": {
        "colab": {
          "base_uri": "https://localhost:8080/"
        },
        "id": "VdoxxI4RoU3P",
        "outputId": "975b74fb-89d4-4fff-bd64-85fef985a8d3"
      },
      "execution_count": null,
      "outputs": [
        {
          "output_type": "stream",
          "name": "stdout",
          "text": [
            "yeah!\n"
          ]
        }
      ]
    },
    {
      "cell_type": "code",
      "source": [
        "a = ['foo', 'bar', 'baz', 'qux', 'corge']\n",
        "\n",
        " \n",
        "\n",
        "while a:\n",
        "\n",
        "   if len(a) < 3:\n",
        "\n",
        "      break\n",
        "\n",
        "   print(a.pop())\n",
        "\n",
        "print('Done.')"
      ],
      "metadata": {
        "colab": {
          "base_uri": "https://localhost:8080/"
        },
        "id": "ZOFTRvHZpm52",
        "outputId": "6784b51e-3f52-4d3c-8fad-03a5ae18c581"
      },
      "execution_count": null,
      "outputs": [
        {
          "output_type": "stream",
          "name": "stdout",
          "text": [
            "corge\n",
            "qux\n",
            "baz\n",
            "Done.\n"
          ]
        }
      ]
    },
    {
      "cell_type": "markdown",
      "source": [
        "#Random"
      ],
      "metadata": {
        "id": "38tlHfP8Gtyx"
      }
    },
    {
      "cell_type": "code",
      "source": [
        "import random\n",
        "for i in range(3):\n",
        "  print(random.random())"
      ],
      "metadata": {
        "colab": {
          "base_uri": "https://localhost:8080/"
        },
        "id": "WuuCOHAYJXZ5",
        "outputId": "f4892e1e-446b-47df-f0c4-2c3c89400d15"
      },
      "execution_count": null,
      "outputs": [
        {
          "output_type": "stream",
          "name": "stdout",
          "text": [
            "0.7677120311761655\n",
            "0.6771062411250496\n",
            "0.4764665266236098\n"
          ]
        }
      ]
    },
    {
      "cell_type": "code",
      "source": [
        "x=random.random()\n",
        "print(x)"
      ],
      "metadata": {
        "colab": {
          "base_uri": "https://localhost:8080/"
        },
        "id": "c_E7K3Syr5R8",
        "outputId": "c9116e2d-efe3-44b4-f071-c42fed65fd47"
      },
      "execution_count": null,
      "outputs": [
        {
          "output_type": "stream",
          "name": "stdout",
          "text": [
            "0.690117792059544\n"
          ]
        }
      ]
    },
    {
      "cell_type": "code",
      "source": [
        "import numpy as np\n",
        "x=np.random.random()\n",
        "print(x)"
      ],
      "metadata": {
        "colab": {
          "base_uri": "https://localhost:8080/"
        },
        "id": "DvB3yAoEsJKn",
        "outputId": "fe6a1d70-51ac-4e49-ad9d-ee045657e0a1"
      },
      "execution_count": null,
      "outputs": [
        {
          "output_type": "stream",
          "name": "stdout",
          "text": [
            "0.6002372210118934\n"
          ]
        }
      ]
    },
    {
      "cell_type": "code",
      "source": [
        "from numpy import random as rnd\n",
        "x=rnd.random()\n",
        "print(x)"
      ],
      "metadata": {
        "colab": {
          "base_uri": "https://localhost:8080/"
        },
        "id": "80_vmnbosWAB",
        "outputId": "94ed5f29-0e58-4092-dda0-78373d919234"
      },
      "execution_count": null,
      "outputs": [
        {
          "output_type": "stream",
          "name": "stdout",
          "text": [
            "0.004732533005648021\n"
          ]
        }
      ]
    },
    {
      "cell_type": "code",
      "source": [
        "for i in range(3):\n",
        "  print(random.uniform(1,100)) #will generate a random float between   a  and   b ."
      ],
      "metadata": {
        "colab": {
          "base_uri": "https://localhost:8080/"
        },
        "id": "kQjOJeqAJ1Cp",
        "outputId": "c57bd41e-ad83-49e6-978e-0160447e7495"
      },
      "execution_count": null,
      "outputs": [
        {
          "output_type": "stream",
          "name": "stdout",
          "text": [
            "4.252179898680944\n",
            "17.989738754479255\n",
            "59.514724428732876\n"
          ]
        }
      ]
    },
    {
      "cell_type": "code",
      "source": [
        "for i in range(3):\n",
        "  print(random.randint(1,100)) #as its name suggests, this one is similar to   uniform  except that the random number generated is an integer this time!"
      ],
      "metadata": {
        "colab": {
          "base_uri": "https://localhost:8080/"
        },
        "id": "H8Fxw0suKPpg",
        "outputId": "fa185cfe-7234-4670-dcab-db3572b75e92"
      },
      "execution_count": null,
      "outputs": [
        {
          "output_type": "stream",
          "name": "stdout",
          "text": [
            "71\n",
            "47\n",
            "74\n"
          ]
        }
      ]
    },
    {
      "cell_type": "markdown",
      "source": [
        "#Generar numeros aleatorios de acuerdo con una distribución dada"
      ],
      "metadata": {
        "id": "ldU9Du6PLKGg"
      }
    },
    {
      "cell_type": "code",
      "source": [
        "for i in range(10):\n",
        "  print(random.gauss(0,1))"
      ],
      "metadata": {
        "colab": {
          "base_uri": "https://localhost:8080/"
        },
        "id": "Sake-9liLRc_",
        "outputId": "afa3c7a0-fdbc-4ec4-a28a-ae711fdf4a0d"
      },
      "execution_count": null,
      "outputs": [
        {
          "output_type": "stream",
          "name": "stdout",
          "text": [
            "-0.03010105777442067\n",
            "0.8662521516300524\n",
            "0.2558741833005265\n",
            "1.1583564796308026\n",
            "0.8113090860945108\n",
            "0.9767359715212927\n",
            "0.20885654018836128\n",
            "-0.6514532608415339\n",
            "0.6101779516958241\n",
            "-2.333993539846798\n"
          ]
        }
      ]
    },
    {
      "cell_type": "markdown",
      "source": [
        "#Elegir aleatoriamente los elementos de una lista\n",
        "\n",
        "En el análisis de datos, este concepto de submuestreo es esencial, ya que puede seleccionar una muestra de una población inicial. En estadística, una muestra es un conjunto de individuos representativos de una población. El uso de una submuestra es generalmente una solución a una restricción práctica (falta de tiempo, espacio, costo financiero, etc.) que no permite un estudio exhaustivo de toda la población. \n"
      ],
      "metadata": {
        "id": "0FO-mU1vMSAf"
      }
    },
    {
      "cell_type": "code",
      "source": [
        "lista =['uno','dos','tres','cuatro','cinco','seis']\n",
        "for i in range(3):\n",
        "  print(random.choice(lista))"
      ],
      "metadata": {
        "colab": {
          "base_uri": "https://localhost:8080/"
        },
        "id": "kYJr7AZSMU8P",
        "outputId": "d12ea218-ec3d-488b-8d17-f79d94a3a842"
      },
      "execution_count": null,
      "outputs": [
        {
          "output_type": "stream",
          "name": "stdout",
          "text": [
            "cuatro\n",
            "tres\n",
            "uno\n"
          ]
        }
      ]
    },
    {
      "cell_type": "code",
      "source": [
        "print(random.choices(lista,k=2))\n",
        "print(random.choices(lista,k=3))\n",
        "#Devuelve valores con reemplazo"
      ],
      "metadata": {
        "colab": {
          "base_uri": "https://localhost:8080/"
        },
        "id": "lTMpUo8tMtT3",
        "outputId": "2e024e11-5961-447b-efde-78f1eb877c06"
      },
      "execution_count": null,
      "outputs": [
        {
          "output_type": "stream",
          "name": "stdout",
          "text": [
            "['dos', 'seis', 'dos', 'cuatro', 'tres', 'cuatro', 'dos', 'uno', 'seis', 'tres', 'tres', 'uno', 'dos', 'uno', 'dos', 'uno', 'cuatro', 'cinco', 'seis', 'tres', 'seis', 'tres', 'cinco', 'seis', 'cinco', 'seis', 'cinco', 'tres']\n",
            "['cuatro', 'cinco', 'uno']\n"
          ]
        }
      ]
    },
    {
      "cell_type": "code",
      "source": [
        "print(random.sample(lista,6))\n",
        "print(random.sample(lista,3))\n",
        "#Devuelve los valores sin reemplazo, es decir elecciones unicas"
      ],
      "metadata": {
        "colab": {
          "base_uri": "https://localhost:8080/"
        },
        "id": "8jm0Wa4cM-fZ",
        "outputId": "85df92d2-e82b-4df7-bc3d-27a50be4bf3a"
      },
      "execution_count": null,
      "outputs": [
        {
          "output_type": "stream",
          "name": "stdout",
          "text": [
            "['seis', 'dos', 'uno', 'cinco', 'tres', 'cuatro']\n",
            "['uno', 'cinco', 'cuatro']\n"
          ]
        }
      ]
    },
    {
      "cell_type": "markdown",
      "source": [
        "#Pregunta 3"
      ],
      "metadata": {
        "id": "2amd9AYNiq0j"
      }
    },
    {
      "cell_type": "code",
      "source": [
        "def grupo(itema, itemb):\n",
        "  tiradas =[]\n",
        "  for i in range(10000): \n",
        "    rand =random.randint(1,6) \n",
        "    tiradas.insert(0,rand) #insertamos en la lista los tiros aleatorios, en total la lista es de 10000 elementos\n",
        "\n",
        "  freq=tiradas.count(itema) #Sacamos el total de veces que aparece el primer item en la lista de 10000\n",
        "  muestra = random.sample(tiradas,1000) #elijo una muestra aleatoria de 1000\n",
        "#prom_muestra = sum(muestra) /1000\n",
        "\n",
        "  freqmini =muestra.count(itemb)#Sacamos el total de veces que aparece el segundo item en la lista de 1000\n",
        "  print(freq)\n",
        "  print(freqmini)\n",
        "#print(tiradas)\n",
        "\n",
        "for a in range (5):\n",
        "\n",
        "  a=grupo(5,2)\n",
        "  \n",
        "\n"
      ],
      "metadata": {
        "colab": {
          "base_uri": "https://localhost:8080/"
        },
        "id": "l5ropsVpOfR_",
        "outputId": "171e59f3-24cb-49ea-8a73-8507acc710b1"
      },
      "execution_count": null,
      "outputs": [
        {
          "output_type": "stream",
          "name": "stdout",
          "text": [
            "1656\n",
            "174\n",
            "1660\n",
            "170\n",
            "1726\n",
            "149\n",
            "1621\n",
            "165\n",
            "1603\n",
            "180\n"
          ]
        }
      ]
    },
    {
      "cell_type": "markdown",
      "source": [
        "#Pregunta 4\n",
        "LA entrada cuesta $1. La moneda esta sesgada con la probabilidad de que cruz caiga 0.59% de las veces. Si sale cruz recupera el dolar y suma otro."
      ],
      "metadata": {
        "id": "eUG_RZ_Hxc_-"
      }
    },
    {
      "cell_type": "code",
      "source": [
        "import random\n",
        "capital= 1000\n",
        "\n",
        "def juegoA (capital):\n",
        "  opciones = ['cara', 'cruz']\n",
        "  pesos = [0.51, 0.49]\n",
        "  resultado = random.choices(opciones, weights=pesos)[0]\n",
        "  if resultado == 'cara':\n",
        "    saldo_total = capital -1\n",
        "  else:\n",
        "    saldo_total =capital+1\n",
        "  #print(resultado)\n",
        "  return saldo_total\n",
        "\n",
        "\n",
        "for i in range(1000):\n",
        "  resultA = juegoA(capital)\n",
        "  capital =resultA\n",
        " \n",
        "'''\n",
        "#for i in range(10):\n",
        "resultA=juegoA()\n",
        "print(resultA)\n",
        "'''\n",
        "print(\"total despues de 1000 juegos: \",resultA)"
      ],
      "metadata": {
        "id": "rG6qfT3aaqJq",
        "colab": {
          "base_uri": "https://localhost:8080/"
        },
        "outputId": "41bca3bd-2942-4c86-a538-8dbea5651942"
      },
      "execution_count": null,
      "outputs": [
        {
          "output_type": "stream",
          "name": "stdout",
          "text": [
            "total despues de 1000 juegos:  1044\n"
          ]
        }
      ]
    },
    {
      "cell_type": "code",
      "source": [
        "capital =1000\n",
        "def juegoB(capital):\n",
        "  opciones = ['cara', 'cruz']\n",
        "  pesos1 = [0.91,0.09]\n",
        "  pesos2= [0.26,0.74]\n",
        "  if capital %3 ==0: ##Se determina si el capital es multiplo de 3 se utilizara la moneda 1\n",
        "    resultado =random.choices(opciones, weights=pesos1, k=1)[0]\n",
        "    if resultado =='cara':\n",
        "      saldo_total= capital -1\n",
        "    elif resultado =='cruz':\n",
        "      saldo_total=capital+1\n",
        "\n",
        "  elif capital %3 !=0: ##Se determina si el capital no es multiplo de 3 se utilizara la moneda 2\n",
        "    resultado =random.choices(opciones, weights=pesos2, k=1)[0]\n",
        "    if resultado =='cara':\n",
        "      saldo_total= capital -1\n",
        "    elif resultado =='cruz':\n",
        "      saldo_total=capital+1\n",
        "  return saldo_total\n",
        "\n",
        "for i in range(1000):\n",
        "  resultB = juegoB(capital)\n",
        "  capital =resultB\n",
        "\n",
        "print(capital)\n",
        "\n"
      ],
      "metadata": {
        "colab": {
          "base_uri": "https://localhost:8080/"
        },
        "id": "Twg4S-Ja0Wur",
        "outputId": "350a97ff-a813-42bc-82ca-fa0405e48509"
      },
      "execution_count": null,
      "outputs": [
        {
          "output_type": "stream",
          "name": "stdout",
          "text": [
            "1006\n"
          ]
        }
      ]
    },
    {
      "cell_type": "markdown",
      "source": [
        "#Pregunta 6\n",
        "¡Ahora mezclaremos los dos juegos presentados en la pregunta anterior! Efectivamente, en cada turno, ¡ahora lanzamos una moneda que está balanceada! Si sale cruz, juega el juego A, de lo contrario, juega el juego B.\n",
        "\n",
        "Se supone que el jugador tiene $1,000 como capital inicial.\n",
        "\n",
        "Después de jugar 1.000.000 de juegos, ¿cuál es el estado del juego desde el punto de vista del jugador? "
      ],
      "metadata": {
        "id": "PHnRBFt1jYK6"
      }
    },
    {
      "cell_type": "code",
      "source": [
        "capital =1000\n",
        "opciones = ['cara', 'cruz']\n",
        "pesos = [0.50, 0.50]\n",
        "tirada_moneda = random.choices(opciones, weights=pesos, k=1)[0]\n",
        "\n",
        "for i in range(1000000):\n",
        "  if tirada_moneda == 'cruz':\n",
        "    resultA = juegoA(capital)\n",
        "    capital =resultA\n",
        "  else:\n",
        "    resultB = juegoB(capital)\n",
        "    capital =resultB\n",
        "\n",
        "\n",
        "print(\"El total del capital es: \",capital)\n",
        "\n"
      ],
      "metadata": {
        "id": "YpE1cLWADWXv",
        "colab": {
          "base_uri": "https://localhost:8080/"
        },
        "outputId": "34a95ed6-b8c1-4cfd-e204-3a0f7874203f"
      },
      "execution_count": null,
      "outputs": [
        {
          "output_type": "stream",
          "name": "stdout",
          "text": [
            "El total del capital es:  -16400\n"
          ]
        }
      ]
    },
    {
      "cell_type": "markdown",
      "source": [
        "#Pregunta 6\n",
        "¿Cómo podemos generar N billetes de lotería, es decir, N números entre 0 y 999, que sean únicos ?\n",
        "\n",
        "Puedes usar el range(p)función para producir una secuencia de números enteros de 0 a p-1. "
      ],
      "metadata": {
        "id": "CrZdgAqClju7"
      }
    },
    {
      "cell_type": "code",
      "source": [
        "#range(p) produces a sequence of integers from 0 to p-1\n",
        "population =range(1000)\n",
        "N=10\n",
        "print(population)"
      ],
      "metadata": {
        "colab": {
          "base_uri": "https://localhost:8080/"
        },
        "id": "eG-Ue0e2lmQB",
        "outputId": "14b51069-9b17-40cc-a9dd-5a07b0c54fea"
      },
      "execution_count": null,
      "outputs": [
        {
          "output_type": "stream",
          "name": "stdout",
          "text": [
            "range(0, 1000)\n"
          ]
        }
      ]
    },
    {
      "cell_type": "code",
      "source": [
        "random.choices(population,k=N)"
      ],
      "metadata": {
        "colab": {
          "base_uri": "https://localhost:8080/"
        },
        "id": "T7QQ5_Zhpy1E",
        "outputId": "0bac1b0c-6fe6-4bf5-fb08-dcd53b1032d2"
      },
      "execution_count": null,
      "outputs": [
        {
          "output_type": "execute_result",
          "data": {
            "text/plain": [
              "[787, 514, 121, 185, 24, 352, 32, 496, 967, 834]"
            ]
          },
          "metadata": {},
          "execution_count": 20
        }
      ]
    },
    {
      "cell_type": "code",
      "source": [
        "tickets =[]\n",
        "for n in range(N):\n",
        "  list =tickets.append(random.choice(population))\n"
      ],
      "metadata": {
        "colab": {
          "base_uri": "https://localhost:8080/"
        },
        "id": "CeRWhHb2pSpG",
        "outputId": "a5051eda-7064-4155-8e5c-1fe6f0769078"
      },
      "execution_count": null,
      "outputs": [
        {
          "output_type": "stream",
          "name": "stdout",
          "text": [
            "range(0, 1000)\n"
          ]
        }
      ]
    },
    {
      "cell_type": "code",
      "source": [
        "random.sample(population,N)"
      ],
      "metadata": {
        "colab": {
          "base_uri": "https://localhost:8080/"
        },
        "id": "JCnwifn_p8eY",
        "outputId": "51aaaf62-9375-4935-cb6b-777b368dadd8"
      },
      "execution_count": null,
      "outputs": [
        {
          "output_type": "execute_result",
          "data": {
            "text/plain": [
              "[629, 902, 365, 509, 311, 195, 284, 878, 316, 246]"
            ]
          },
          "metadata": {},
          "execution_count": 12
        }
      ]
    },
    {
      "cell_type": "code",
      "source": [
        "tickets = []\n",
        "for n in range(N):\n",
        "  tickets.append(random.randint(0,1000))"
      ],
      "metadata": {
        "id": "2FI0NdFNqFPD"
      },
      "execution_count": null,
      "outputs": []
    },
    {
      "cell_type": "markdown",
      "source": [
        "#Pregunta 7\n",
        "Intentamos generar un flotante aleatorio con la función aleatoria.\n",
        "\n",
        "¿Cuál es la mejor manera de importar el módulo correcto y llamar a la función correcta para esto? "
      ],
      "metadata": {
        "id": "I5prqpAclQs7"
      }
    },
    {
      "cell_type": "code",
      "source": [
        "from numpy import random as rnd"
      ],
      "metadata": {
        "id": "InUjEuq0lYFE"
      },
      "execution_count": null,
      "outputs": []
    }
  ]
}